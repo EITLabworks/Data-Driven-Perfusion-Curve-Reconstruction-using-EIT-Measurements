{
 "cells": [
  {
   "cell_type": "code",
   "execution_count": null,
   "id": "4389114b-de6f-414a-b18f-4b0b5b07c353",
   "metadata": {},
   "outputs": [],
   "source": [
    "import os\n",
    "import numpy as np\n",
    "from glob import glob\n",
    "import matplotlib.pyplot as plt\n",
    "\n",
    "from src.vae_model import vae_model\n",
    "from src.util import DataLoader, Pearson_correlation, AortaNormalizer\n",
    "from src.visualiazation import plot_relative_error_aorta\n",
    "import tensorflow as tf\n",
    "\n",
    "\n",
    "os.environ[\"CUDA_VISIBLE_DEVICES\"] = \"1\""
   ]
  },
  {
   "cell_type": "markdown",
   "id": "dbc326c4-b7ac-4971-89cd-9ebe47dae62d",
   "metadata": {},
   "source": [
    "**Load Data**"
   ]
  },
  {
   "cell_type": "code",
   "execution_count": null,
   "id": "a8aaa86a-02fb-478f-a0a9-25d647acacbf",
   "metadata": {},
   "outputs": [],
   "source": [
    "data_path = \"../../../data/PulHypStudie_Check_npz_v2/\""
   ]
  },
  {
   "cell_type": "code",
   "execution_count": null,
   "id": "2020c7a0-4286-4eae-82ac-15ecb9b97bec",
   "metadata": {},
   "outputs": [],
   "source": [
    "data_loader = DataLoader(data_path)\n",
    "\n",
    "Eit, Y, Pig = data_loader.load_data(10)"
   ]
  },
  {
   "cell_type": "code",
   "execution_count": null,
   "id": "66ed4334-38c9-4a03-a483-20356dc1360d",
   "metadata": {},
   "outputs": [],
   "source": [
    "aorta_normalizer = AortaNormalizer()"
   ]
  },
  {
   "cell_type": "code",
   "execution_count": null,
   "id": "63cf8c2a-2a52-408a-baf4-d109b4e3b097",
   "metadata": {},
   "outputs": [],
   "source": [
    "Y_norm = aorta_normalizer.normalize_forward(Y)\n",
    "Y_true = Y[:, :, 0]"
   ]
  },
  {
   "cell_type": "code",
   "execution_count": null,
   "id": "82c150fb-43e3-4146-9400-e0b537a0421f",
   "metadata": {},
   "outputs": [],
   "source": [
    "plt.figure(figsize=(6, 3))\n",
    "plt.hist(Y_norm.flatten(), bins=100)\n",
    "plt.show()\n",
    "print(np.mean(Y_norm.flatten()))\n",
    "print(np.var(Y_norm.flatten()))\n",
    "\n",
    "plt.figure(figsize=(6, 3))\n",
    "plt.hist(Y_true.flatten(), bins=100)\n",
    "plt.show()\n",
    "print(np.mean(Y_true.flatten()))\n",
    "print(np.var(Y_true.flatten()))"
   ]
  },
  {
   "cell_type": "markdown",
   "id": "ee71c559-d201-4b81-9ac2-1ab8f3d363a9",
   "metadata": {},
   "source": [
    "**Test individual model**"
   ]
  },
  {
   "cell_type": "code",
   "execution_count": null,
   "id": "65197e7e-f84a-45fc-8170-36460dab3847",
   "metadata": {},
   "outputs": [],
   "source": [
    "sel_model = \"src/weights/vae_model_excl10_0.weights.h5\"\n",
    "\n",
    "rel_err_config = {\n",
    "    \"std\": True,\n",
    "    \"var\": True,\n",
    "    \"mean\": True,\n",
    "    \"s_name\": None,\n",
    "}\n",
    "\n",
    "vae = vae_model()\n",
    "vae.compile(optimizer=tf.keras.optimizers.Adam())\n",
    "vae.load_weights(sel_model)\n",
    "# apply model\n",
    "_, _, z = vae.encoder.predict(Y_norm)\n",
    "Y_pred = vae.decoder.predict(z)[:, :, 0]\n",
    "\n",
    "# inverse normalization\n",
    "Y_pred = aorta_normalizer.normalize_inverse(Y_pred)\n",
    "\n",
    "\n",
    "mae, mse, pn = plot_relative_error_aorta(Y_true, Y_pred, **rel_err_config)"
   ]
  },
  {
   "cell_type": "code",
   "execution_count": null,
   "id": "2655854d-8cef-49ad-a151-0c76ac6ceeb0",
   "metadata": {},
   "outputs": [],
   "source": [
    "Y_pred.shape"
   ]
  },
  {
   "cell_type": "code",
   "execution_count": null,
   "id": "5c02a5ee-1949-4275-8298-4e2dffc1acae",
   "metadata": {},
   "outputs": [],
   "source": [
    "from src.LaTeX_export import output_err_for_LaTeX, output_curve_for_LaTeX"
   ]
  },
  {
   "cell_type": "code",
   "execution_count": null,
   "id": "f7c2154d-12ec-425f-9ef0-c3bf62f81d97",
   "metadata": {},
   "outputs": [],
   "source": [
    "output_err_for_LaTeX(Y_true, Y_pred, f_name=\"test_results.csv\")"
   ]
  },
  {
   "cell_type": "code",
   "execution_count": null,
   "id": "7c8d3429-5d3e-4fd3-adc7-de466fcf53a8",
   "metadata": {},
   "outputs": [],
   "source": [
    "output_curve_for_LaTeX(Y_true, Y_pred, f_name=\"test_aorta.csv\")"
   ]
  },
  {
   "cell_type": "markdown",
   "id": "d9257a7d-2a99-4d22-97f3-3d2e98456fe4",
   "metadata": {},
   "source": [
    "**Archive Code**"
   ]
  },
  {
   "cell_type": "markdown",
   "id": "fab44a2e-fd6a-401e-a8af-99efb6dd7b9e",
   "metadata": {},
   "source": [
    "_Take batch size of 8 for training the final VAE network._"
   ]
  },
  {
   "cell_type": "markdown",
   "id": "d3244a41-55a7-4650-b926-dfeb4e6f6825",
   "metadata": {},
   "source": [
    "**Tuning parameter ...?**"
   ]
  },
  {
   "cell_type": "code",
   "execution_count": null,
   "id": "6f808a32-4293-4cfa-862d-a553295f9bef",
   "metadata": {},
   "outputs": [],
   "source": []
  },
  {
   "cell_type": "markdown",
   "id": "295a76f8-93ee-4193-87d2-d0fd0b2f4b01",
   "metadata": {},
   "source": [
    "**Export to LaTeX**"
   ]
  },
  {
   "cell_type": "markdown",
   "id": "5c0a395d-ae76-421e-83f0-7cac17a51e61",
   "metadata": {},
   "source": [
    "**Best Batch-Size**"
   ]
  },
  {
   "cell_type": "code",
   "execution_count": null,
   "id": "6ec57949-f707-4b4e-a8c2-f61105c4289f",
   "metadata": {},
   "outputs": [],
   "source": [
    "vae_models = glob(\"src/weights/vae_model*.weights.h5\")\n",
    "vae_models"
   ]
  },
  {
   "cell_type": "code",
   "execution_count": null,
   "id": "1979222f-c27b-4dcc-a77d-0e5009466405",
   "metadata": {},
   "outputs": [],
   "source": [
    "rel_err_config = {\n",
    "    \"std\": True,\n",
    "    \"var\": True,\n",
    "    \"mean\": True,\n",
    "    \"s_name\": None,\n",
    "}\n",
    "\n",
    "MAEs = list()\n",
    "MSEs = list()\n",
    "PNs = list()\n",
    "for sel_model in vae_models:\n",
    "    rel_err_config[\n",
    "        \"s_name\"\n",
    "    ] = f\"images/rel_err{sel_model.split('/')[2].split('.')[0]}.png\"\n",
    "    print(\"load\", sel_model)\n",
    "    vae = vae_model()\n",
    "    vae.compile(optimizer=tf.keras.optimizers.Adam())\n",
    "    vae.load_weights(sel_model)\n",
    "    # apply model\n",
    "    _, _, z = vae.encoder.predict(Y)\n",
    "\n",
    "    Y_pred = vae.decoder.predict(z)[:, :, 0]\n",
    "    # inverse normalization\n",
    "    Y_pred = aorta_normalizer.normalize_inverse(Y_pred)\n",
    "\n",
    "    mae, mse, pn = plot_relative_error_aorta(Y_true, Y_pred, **rel_err_config)\n",
    "\n",
    "    MAEs.append(mae)\n",
    "    MSEs.append(mse)\n",
    "    PNs.append(pn)\n",
    "\n",
    "\n",
    "MAEs = np.array(MAEs)\n",
    "MSEs = np.array(MSEs)\n",
    "PNs = np.array(PNs)"
   ]
  },
  {
   "cell_type": "code",
   "execution_count": null,
   "id": "f3b1cd9d-c01e-4af5-aff0-9aeda3abb68d",
   "metadata": {},
   "outputs": [],
   "source": [
    "Y_pred"
   ]
  },
  {
   "cell_type": "code",
   "execution_count": null,
   "id": "d6f27b78-8a7e-4d2b-b9be-c94b3dd7df3a",
   "metadata": {},
   "outputs": [],
   "source": [
    "Y_true"
   ]
  },
  {
   "cell_type": "code",
   "execution_count": null,
   "id": "d2351985-fbe0-4795-81cb-25e9804d8ac9",
   "metadata": {},
   "outputs": [],
   "source": [
    "print(f\"{MAEs=}\\n\\n{MSEs=}\\n\\n{PNs=}\")\n",
    "best_choice = np.argmax(PNs)\n",
    "print(\n",
    "    \"Best choice Batch size= \",\n",
    "    np.argmin(MAEs),\n",
    "    np.argmin(MSEs),\n",
    "    best_choice,\n",
    "    \"\\n\\t\",\n",
    "    vae_models[best_choice],\n",
    ")"
   ]
  },
  {
   "cell_type": "raw",
   "id": "fdd5bbfe-d60d-4a1c-b5c4-9599a8683eea",
   "metadata": {},
   "source": [
    "vae = vae_model()\n",
    "vae.compile(optimizer=tf.keras.optimizers.Adam())\n",
    "vae.load_weights(sel_model)\n",
    "\n",
    "z = np.random.random(size=(10, 8))\n",
    "Aorta_pred = vae.decoder.predict(z)\n",
    "\n",
    "for i in range(10):\n",
    "    plt.plot(normalize_aorta(Aorta_pred[i, :, 0], invert=True), label=f\"$z_{i}$\")\n",
    "plt.legend()\n",
    "plt.show()"
   ]
  }
 ],
 "metadata": {
  "kernelspec": {
   "display_name": "Python 3 (ipykernel)",
   "language": "python",
   "name": "python3"
  },
  "language_info": {
   "codemirror_mode": {
    "name": "ipython",
    "version": 3
   },
   "file_extension": ".py",
   "mimetype": "text/x-python",
   "name": "python",
   "nbconvert_exporter": "python",
   "pygments_lexer": "ipython3",
   "version": "3.10.13"
  }
 },
 "nbformat": 4,
 "nbformat_minor": 5
}
